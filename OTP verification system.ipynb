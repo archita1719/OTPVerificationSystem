{
 "cells": [
  {
   "cell_type": "markdown",
   "id": "17b0ff99-bdff-41a0-b83e-a6a30d81a482",
   "metadata": {},
   "source": [
    "<b>OTP Verification System"
   ]
  },
  {
   "cell_type": "markdown",
   "id": "0b64a5e5-f8c3-4a2b-8ec5-ac24b9470a11",
   "metadata": {},
   "source": [
    "<b> Purpose -</b> To develop a secure and user-friendly OTP (One-Time Password) verification system in Python. "
   ]
  },
  {
   "cell_type": "markdown",
   "id": "24fbfa43-9d67-40de-820c-ff0688a46ed6",
   "metadata": {},
   "source": [
    "<b> Objectives -</b> <br>\n",
    "<font size=\"4\">---> Generating a 6-digit OTP randomly to ensure security. <br>\n",
    "---> Simulating the sending of OTP to the user's email address for verification. <br>\n",
    "---> Prompting the user to enter the OTP received in their email. <br>\n",
    "---> Verifying if the entered OTP matches the generated OTP to grant access. <br>\n",
    "---> Ensuring proper error handling and user-friendly prompts throughout the system. <br> <font size=\"4\">"
   ]
  },
  {
   "cell_type": "code",
   "execution_count": 1,
   "id": "680b35ff-0e1c-4a7e-a417-2de58db12bd7",
   "metadata": {},
   "outputs": [],
   "source": [
    "import random\n",
    "import smtplib\n",
    "import re\n",
    "import tkinter as tk\n",
    "from tkinter import *\n",
    "from tkinter import messagebox\n",
    "from email.mime.text import MIMEText\n",
    "from email.mime.multipart import MIMEMultipart"
   ]
  },
  {
   "cell_type": "markdown",
   "id": "031a2f37-6d66-4419-bac1-e4782ac732e9",
   "metadata": {},
   "source": [
    "<b> <font size=\"4\"> Generates a 6-digit OTP randomly using numbers from 0 to 9"
   ]
  },
  {
   "cell_type": "code",
   "execution_count": 2,
   "id": "3bde7adb-1f76-46ef-ac84-c07fe6effde2",
   "metadata": {},
   "outputs": [],
   "source": [
    "def generate_OTP():\n",
    "    try:\n",
    "        OTP = ''.join([str(random.randint(0, 9)) for i in range(6)])\n",
    "        return OTP\n",
    "    except Exception as e:\n",
    "        messagebox.showerror(\"Error\", f\"Error generating OTP: {e}\")\n",
    "        return None"
   ]
  },
  {
   "cell_type": "markdown",
   "id": "30af119c-0534-45f6-b3f6-79a573005954",
   "metadata": {},
   "source": [
    "<b> <font size=\"4\"> Sends the generated OTP to the provided email address using SMTP protocol and a Gmail account configured with a specific sender email and password"
   ]
  },
  {
   "cell_type": "code",
   "execution_count": 3,
   "id": "0f2d74c1-f66d-473d-aaac-dfb96c5c1893",
   "metadata": {},
   "outputs": [],
   "source": [
    "def send_OTP_email(receiver_email, otp):\n",
    "    try:\n",
    "        sender_email = \"sahaarchita0@gmail.com\"  \n",
    "        password = \"zdzg mrvo kjfz vrpm\"  \n",
    "\n",
    "        message = MIMEMultipart()\n",
    "        message['From'] = sender_email\n",
    "        message['To'] = receiver_email\n",
    "        message['Subject'] = \"OTP Verification\"\n",
    "\n",
    "        body = f\"Your OTP is: {otp}\"\n",
    "        message.attach(MIMEText(body, 'plain'))\n",
    "\n",
    "        server = smtplib.SMTP('smtp.gmail.com', 587)\n",
    "        server.starttls()\n",
    "        server.login(sender_email, password)\n",
    "        text = message.as_string()\n",
    "        server.sendmail(sender_email, receiver_email, text)\n",
    "        server.quit()\n",
    "        messagebox.showinfo(\"Success\", \"OTP sent successfully!\")\n",
    "    except Exception as e:\n",
    "        messagebox.showerror(\"Error\", f\"Error sending OTP email: {e}\")"
   ]
  },
  {
   "cell_type": "markdown",
   "id": "bab7a8aa-accc-4e2f-bdc2-ae72f4dc1a9d",
   "metadata": {},
   "source": [
    "<b> <font size=\"4\"> Compares the user-input OTP with the expected OTP, decrements the attempts left counter, and displays appropriate messages, ultimately closing windows upon successful verification or reaching maximum attempts"
   ]
  },
  {
   "cell_type": "code",
   "execution_count": 4,
   "id": "4ff93775-e582-4a4d-8cb5-d4fc0e198072",
   "metadata": {},
   "outputs": [],
   "source": [
    "def verify_OTP(user_input, expected_otp, attempts_left_label, top):\n",
    "    if user_input == expected_otp:\n",
    "        messagebox.showinfo(\"Success\", \"OTP verified successfully!\")\n",
    "        top.destroy()  # Close the window after successful verification\n",
    "        root.destroy()  # Close the main window\n",
    "    else:\n",
    "        attempts_left = int(attempts_left_label.cget(\"text\"))\n",
    "        attempts_left -= 1\n",
    "        attempts_left_label.config(text=str(attempts_left))\n",
    "        if attempts_left == 0:\n",
    "            messagebox.showerror(\"Error\", \"Incorrect OTP. Maximum attempts reached. Please try again later.\")\n",
    "            top.destroy()  # Close the verification window\n",
    "            root.destroy()  # Close the main window\n",
    "        else:\n",
    "            messagebox.showerror(\"Error\", f\"Incorrect OTP. You have {attempts_left} attempts left. Please try again.\")"
   ]
  },
  {
   "cell_type": "markdown",
   "id": "33c5a122-50e6-43d1-9640-1f1c0864fd18",
   "metadata": {},
   "source": [
    "<b> <font size=\"4\"> Retrieves the email entered by the user, validates its format, generates and sends an OTP to the provided email address, and prompts for OTP verification"
   ]
  },
  {
   "cell_type": "code",
   "execution_count": 5,
   "id": "85fe7190-edd8-4285-be0d-ebfde3f19df3",
   "metadata": {},
   "outputs": [],
   "source": [
    "def send_OTP():\n",
    "    email = email_entry.get()\n",
    "    if email:\n",
    "        if not re.match(r\"[^@]+@[^@]+\\.[^@]+\", email):\n",
    "            messagebox.showerror(\"Error\", \"Invalid email format. Please enter a valid email.\")\n",
    "        else:\n",
    "            otp = generate_OTP()\n",
    "            if otp:\n",
    "                send_OTP_email(email, otp)\n",
    "                verify_OTP_GUI(otp)\n",
    "            else:\n",
    "                messagebox.showerror(\"Error\", \"Failed to generate OTP. Please try again.\")\n",
    "    else:\n",
    "        messagebox.showerror(\"Error\", \"Please enter your email.\")"
   ]
  },
  {
   "cell_type": "markdown",
   "id": "3aaa412e-00e2-4e36-9781-450763174cc6",
   "metadata": {},
   "source": [
    "<b> <font size=\"4\"> Creates a new window for OTP verification, allowing the user to enter the OTP received via email, providing feedback on the number of attempts left, and verifying the entered OTP against the expected one"
   ]
  },
  {
   "cell_type": "code",
   "execution_count": 6,
   "id": "4f1a2cb1-e3b6-4048-af5b-5bf766c25098",
   "metadata": {},
   "outputs": [],
   "source": [
    "def verify_OTP_GUI(otp):\n",
    "    top = tk.Toplevel(root)\n",
    "    top.title(\"OTP Verification\")\n",
    "    top.geometry(\"400x350+100+200\")  # Set width and height of the window\n",
    "    top.configure(background=\"pink\")\n",
    "    top.grab_set()  # Prevent other windows from being used until this one is closed\n",
    "\n",
    "    label = tk.Label(top, text=\"Enter OTP received in your email:\", bg=\"pink\", font=\"Calibri 13 bold\")\n",
    "    label.pack()\n",
    "\n",
    "    otp_entry = tk.Entry(top)\n",
    "    otp_entry.pack()\n",
    "\n",
    "    attempts_left_label = tk.Label(top, text=\"3\", bg=\"pink\", font=\"Calibri 10\")\n",
    "    attempts_left_label.pack()\n",
    "\n",
    "    verify_button = tk.Button(top, text=\"Verify OTP\", bg=\"brown\", fg=\"white\", font=\"Calibri 10 bold\",\n",
    "                              command=lambda: verify_OTP(otp_entry.get(), otp, attempts_left_label, top))\n",
    "    verify_button.pack()\n",
    "\n",
    "    otp_entry.focus_set()  # Set focus to OTP entry field\n",
    "    #otp_entry.delete(0, END)  # Clear OTP entry field"
   ]
  },
  {
   "cell_type": "markdown",
   "id": "28048be9-bf9d-477c-84e2-177f5b58cce8",
   "metadata": {},
   "source": [
    "<b> <font size=\"4\"> Initializes a Tkinter window for OTP verification, allowing users to input their email, trigger the sending of an OTP, and interact with the OTP verification process using the previously defined functions"
   ]
  },
  {
   "cell_type": "code",
   "execution_count": 7,
   "id": "e8553c55-ec9a-42cc-808a-81cf7a5886a9",
   "metadata": {},
   "outputs": [],
   "source": [
    "root = tk.Tk()\n",
    "root.geometry(\"500x400+500+200\")  # Set width and height of the window\n",
    "root.title(\"OTP Verification\")\n",
    "root.configure(background=\"skyblue\")\n",
    "\n",
    "label = tk.Label(root, text=\"Enter your email:\", bg=\"skyblue\", font=\"Calibri 15 bold\")\n",
    "label.pack()\n",
    "\n",
    "email_entry = tk.Entry(root, width=50, font=\"Calibri 11\") \n",
    "email_entry.pack()\n",
    "\n",
    "send_button = tk.Button(root, text=\"Send OTP\", command=send_OTP, font=\"Calibri 10 bold\", bg=\"brown\", fg=\"white\")\n",
    "send_button.pack()\n",
    "\n",
    "root.mainloop()"
   ]
  },
  {
   "cell_type": "markdown",
   "id": "c389038c-5aa0-4496-ad19-be76a70c41d5",
   "metadata": {},
   "source": [
    "The Test cases are given in the screen recording video."
   ]
  }
 ],
 "metadata": {
  "kernelspec": {
   "display_name": "Python 3 (ipykernel)",
   "language": "python",
   "name": "python3"
  },
  "language_info": {
   "codemirror_mode": {
    "name": "ipython",
    "version": 3
   },
   "file_extension": ".py",
   "mimetype": "text/x-python",
   "name": "python",
   "nbconvert_exporter": "python",
   "pygments_lexer": "ipython3",
   "version": "3.11.5"
  },
  "widgets": {
   "application/vnd.jupyter.widget-state+json": {
    "state": {},
    "version_major": 2,
    "version_minor": 0
   }
  }
 },
 "nbformat": 4,
 "nbformat_minor": 5
}
